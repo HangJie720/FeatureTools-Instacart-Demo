{
  "nbformat": 4,
  "nbformat_minor": 0,
  "metadata": {
    "colab": {
      "name": "Feature Tools Demo - Predicting Basket Orders",
      "version": "0.3.2",
      "provenance": [],
      "collapsed_sections": [
        "k9EfHAXqD6CL"
      ]
    },
    "kernelspec": {
      "name": "python2",
      "display_name": "Python 2"
    },
    "accelerator": "GPU"
  },
  "cells": [
    {
      "cell_type": "markdown",
      "metadata": {
        "id": "view-in-github",
        "colab_type": "text"
      },
      "source": [
        "[View in Colaboratory](https://colab.research.google.com/github/iampatgrady/FeatureTools-Instacart-Demo/blob/master/Feature_Tools_Demo_Predicting_Basket_Orders.ipynb)"
      ]
    },
    {
      "metadata": {
        "id": "VIci_YfNG6eR",
        "colab_type": "code",
        "colab": {}
      },
      "cell_type": "code",
      "source": [
        "# clean project space, setup dependencies\n",
        "!pip install dask\n",
        "!pip install featuretools\n",
        "!rm -rf top_features\n",
        "!rm -rf data\n",
        "!rm -rf partitioned_data\n",
        "!rm data.zip\n",
        "!pip install -U -q PyDrive\n",
        "\n",
        "from IPython.display import clear_output\n",
        "clear_output()"
      ],
      "execution_count": 0,
      "outputs": []
    },
    {
      "metadata": {
        "id": "93-jRyAte2AY",
        "colab_type": "code",
        "colab": {}
      },
      "cell_type": "code",
      "source": [
        ""
      ],
      "execution_count": 0,
      "outputs": []
    },
    {
      "metadata": {
        "id": "fAIAla7_6dwu",
        "colab_type": "text"
      },
      "cell_type": "markdown",
      "source": [
        "# FeatureTools"
      ]
    },
    {
      "metadata": {
        "id": "L3BxaPvT1vY8",
        "colab_type": "code",
        "colab": {
          "base_uri": "https://localhost:8080/",
          "height": 34
        },
        "outputId": "c75ecf3b-8e12-4881-f2e0-9b64421e573f"
      },
      "cell_type": "code",
      "source": [
        "import featuretools as ft\n",
        "import pandas as pd\n",
        "import os\n",
        "from random import sample\n",
        "from tqdm import tqdm\n",
        "ft.__version__"
      ],
      "execution_count": 3,
      "outputs": [
        {
          "output_type": "execute_result",
          "data": {
            "text/plain": [
              "'0.1.20'"
            ]
          },
          "metadata": {
            "tags": []
          },
          "execution_count": 3
        }
      ]
    },
    {
      "metadata": {
        "id": "u1aAKW0hL8zA",
        "colab_type": "text"
      },
      "cell_type": "markdown",
      "source": [
        "## Download partitioned data, and kaggle data"
      ]
    },
    {
      "metadata": {
        "id": "YUAjMXayL-kl",
        "colab_type": "code",
        "colab": {
          "base_uri": "https://localhost:8080/",
          "height": 34
        },
        "outputId": "251a9704-67a4-4552-b0de-ea4cd8198632"
      },
      "cell_type": "code",
      "source": [
        "#TODO replace with bq connection\n",
        "\n",
        "from pydrive.auth import GoogleAuth\n",
        "from pydrive.drive import GoogleDrive\n",
        "from google.colab import auth\n",
        "from oauth2client.client import GoogleCredentials\n",
        "\n",
        "# Authenticate and create the PyDrive client.\n",
        "# This only needs to be done once per notebook.\n",
        "auth.authenticate_user()\n",
        "gauth = GoogleAuth()\n",
        "gauth.credentials = GoogleCredentials.get_application_default()\n",
        "drive = GoogleDrive(gauth)\n",
        "\n",
        "# data.zip\n",
        "file_id = '1-Xy-dO8-xuyrYGqCDk_AVQ3qXdry80S4'\n",
        "downloaded = drive.CreateFile({'id': file_id})\n",
        "downloaded.GetContentFile('data.zip')\n",
        "!unzip -o data.zip\n",
        "clear_output()\n",
        "!ls"
      ],
      "execution_count": 4,
      "outputs": [
        {
          "output_type": "stream",
          "text": [
            "data  datalab  data.zip  __MACOSX\r\n"
          ],
          "name": "stdout"
        }
      ]
    },
    {
      "metadata": {
        "id": "9CV35U9RMJkI",
        "colab_type": "text"
      },
      "cell_type": "markdown",
      "source": [
        "## Generate Data Partitions"
      ]
    },
    {
      "metadata": {
        "id": "DfWh5xPp13nh",
        "colab_type": "code",
        "colab": {}
      },
      "cell_type": "code",
      "source": [
        "def make_user_sample(orders, order_products, departments, products, user_ids, out_dir):\n",
        "    orders_sample = orders[orders[\"user_id\"].isin(user_ids)]\n",
        "\n",
        "    orders_keep = orders_sample[\"order_id\"].values\n",
        "    order_products_sample = order_products[order_products[\"order_id\"].isin(orders_keep)]\n",
        "\n",
        "    try:\n",
        "        os.mkdir(out_dir)\n",
        "    except:\n",
        "        pass\n",
        "    order_products_sample.to_csv(os.path.join(out_dir, \"order_products__prior.csv\"), index=None)\n",
        "    orders_sample.to_csv(os.path.join(out_dir, \"orders.csv\"), index=None)\n",
        "    departments.to_csv(os.path.join(out_dir, \"departments.csv\"), index=None)\n",
        "    products.to_csv(os.path.join(out_dir, \"products.csv\"), index=None)\n",
        "\n",
        "\n",
        "\n",
        "def generateDataPartitions(data_dir,partition_dir,target_users,fullset=False, chunksize=1000):\n",
        "    order_products = pd.concat([pd.read_csv(os.path.join(data_dir,\"order_products__prior.csv\")),\n",
        "                                pd.read_csv(os.path.join(data_dir, \"order_products__train.csv\"))])\n",
        "    orders = pd.read_csv(os.path.join(data_dir, \"orders.csv\"))\n",
        "    departments = pd.read_csv(os.path.join(data_dir, \"departments.csv\"))\n",
        "    products = pd.read_csv(os.path.join(data_dir, \"products.csv\"))\n",
        "\n",
        "    import string\n",
        "    printable = set(string.printable)\n",
        "    products.product_name = products.product_name.apply( lambda pn: filter(lambda x: x in printable, pn) )\n",
        "    \n",
        "    users_unique = orders[\"user_id\"].unique()\n",
        "    if (fullset):\n",
        "      target_users = len(users_unique)\n",
        "    part_num = 0\n",
        "    try:\n",
        "        os.mkdir(partition_dir)\n",
        "    except:\n",
        "        pass\n",
        "    for i in tqdm(range(0, target_users, chunksize)):\n",
        "        users_keep = users_unique[i: i+chunksize]\n",
        "        make_user_sample(orders, order_products, departments, products, users_keep, os.path.join(partition_dir, \"part_%d\" % part_num))\n",
        "        part_num += 1"
      ],
      "execution_count": 0,
      "outputs": []
    },
    {
      "metadata": {
        "id": "jnwktuVeJefT",
        "colab_type": "code",
        "colab": {
          "base_uri": "https://localhost:8080/",
          "height": 34
        },
        "outputId": "0b68138d-2d74-4495-8cb4-33f7d8c8da40"
      },
      "cell_type": "code",
      "source": [
        "# target_users is number of users to generate partitions for to speed up demonstration  should process full data for best prections, flip to \"fullset=True\", takes ~10 mins  \n",
        "generateDataPartitions(\"data\", \"partitioned_data\", 10000, fullset=False, chunksize=1000)  "
      ],
      "execution_count": 7,
      "outputs": [
        {
          "output_type": "stream",
          "text": [
            "100%|██████████| 10/10 [00:30<00:00,  3.04s/it]\n"
          ],
          "name": "stderr"
        }
      ]
    },
    {
      "metadata": {
        "id": "PIN7hwH58PGp",
        "colab_type": "text"
      },
      "cell_type": "markdown",
      "source": [
        "## Load Data"
      ]
    },
    {
      "metadata": {
        "id": "hvuVNEHr5zzA",
        "colab_type": "code",
        "colab": {}
      },
      "cell_type": "code",
      "source": [
        "from dask import bag\n",
        "from dask.diagnostics import ProgressBar\n",
        "import numpy as np\n",
        "\n",
        "from sklearn.ensemble import RandomForestClassifier"
      ],
      "execution_count": 0,
      "outputs": []
    },
    {
      "metadata": {
        "id": "fHL5okpMn8HW",
        "colab_type": "code",
        "colab": {}
      },
      "cell_type": "code",
      "source": [
        "order_products = pd.read_csv(os.path.join(\"partitioned_data/part_1/order_products__prior.csv\"))\n",
        "orders = pd.read_csv(os.path.join(\"partitioned_data/part_1/orders.csv\"))\n",
        "departments = pd.read_csv(os.path.join(\"partitioned_data/part_1/departments.csv\"))\n",
        "products = pd.read_csv(os.path.join(\"partitioned_data/part_1/products.csv\"))\n",
        "\n",
        "order_products = order_products.merge(products).merge(departments)"
      ],
      "execution_count": 0,
      "outputs": []
    },
    {
      "metadata": {
        "id": "u6JU5-Bo8U2L",
        "colab_type": "code",
        "colab": {}
      },
      "cell_type": "code",
      "source": [
        "def load_entityset(data_dir):\n",
        "  order_products = pd.read_csv(os.path.join(data_dir, \"order_products__prior.csv\"))\n",
        "  orders = pd.read_csv(os.path.join(data_dir, \"orders.csv\"))\n",
        "  departments = pd.read_csv(os.path.join(data_dir, \"departments.csv\"))\n",
        "  products = pd.read_csv(os.path.join(data_dir, \"products.csv\"))\n",
        "\n",
        "  order_products = order_products.merge(products).merge(departments)\n",
        "\n",
        "  def add_time(df):\n",
        "    df.reset_index(drop=True)\n",
        "    df[\"order_time\"] = np.nan\n",
        "    days_since = df.columns.tolist().index(\"days_since_prior_order\")\n",
        "    hour_of_day = df.columns.tolist().index(\"order_hour_of_day\")\n",
        "    order_time = df.columns.tolist().index(\"order_time\")\n",
        "\n",
        "    df.iloc[0, order_time] = pd.Timestamp('Jan 1, 2015') +  pd.Timedelta(df.iloc[0, hour_of_day], \"h\")\n",
        "    for i in xrange(1, df.shape[0]):\n",
        "      df.iloc[i, order_time] = df.iloc[i-1, order_time] \\\n",
        "                                + pd.Timedelta(df.iloc[i, days_since], \"d\") \\\n",
        "                                + pd.Timedelta(df.iloc[i, hour_of_day], \"h\")\n",
        "\n",
        "    return df\n",
        "\n",
        "  orders = orders.groupby(\"user_id\").apply(add_time)\n",
        "  order_products = order_products.merge(orders[[\"order_id\", \"order_time\"]])\n",
        "  order_products[\"order_product_id\"] = order_products[\"order_id\"].astype(str) + \"_\" + order_products[\"add_to_cart_order\"].astype(str)\n",
        "  order_products.drop([\"product_id\", \"department_id\", \"add_to_cart_order\"], axis=1, inplace=True)\n",
        "  es = ft.EntitySet(\"instacart\")\n",
        "\n",
        "\n",
        "  es.entity_from_dataframe(entity_id=\"order_products\",\n",
        "                           dataframe=order_products,\n",
        "                           index=\"order_product_id\",\n",
        "                           variable_types={\"aisle_id\": ft.variable_types.Categorical, \"reordered\": ft.variable_types.Boolean},\n",
        "                           time_index=\"order_time\")\n",
        "\n",
        "  es.entity_from_dataframe(entity_id=\"orders\",\n",
        "                           dataframe=orders,\n",
        "                           index=\"order_id\",\n",
        "                           time_index=\"order_time\")\n",
        "\n",
        "  es.add_relationship(ft.Relationship(es[\"orders\"][\"order_id\"], es[\"order_products\"][\"order_id\"]))\n",
        "\n",
        "  es.normalize_entity(base_entity_id=\"orders\", new_entity_id=\"users\", index=\"user_id\")\n",
        "  es.add_last_time_indexes()\n",
        "\n",
        "  es[\"order_products\"][\"department\"].interesting_values = list(set(es[\"order_products\"].df.department.values))\n",
        "  es[\"order_products\"][\"product_name\"].interesting_values = [\"Banana\", \"Organic Strawberries\", \"Organic Avocado\"] \n",
        "  return es"
      ],
      "execution_count": 0,
      "outputs": []
    },
    {
      "metadata": {
        "id": "H9MxpsE286C3",
        "colab_type": "code",
        "colab": {
          "base_uri": "https://localhost:8080/",
          "height": 153
        },
        "outputId": "7760b49e-cf8b-4bf0-de4d-878e1e9aaf16"
      },
      "cell_type": "code",
      "source": [
        "es = load_entityset(\"partitioned_data/part_1/\")\n",
        "es"
      ],
      "execution_count": 56,
      "outputs": [
        {
          "output_type": "execute_result",
          "data": {
            "text/plain": [
              "Entityset: instacart\n",
              "  Entities:\n",
              "    order_products [Rows: 156605, Columns: 7]\n",
              "    orders [Rows: 16328, Columns: 8]\n",
              "    users [Rows: 1000, Columns: 2]\n",
              "  Relationships:\n",
              "    order_products.order_id -> orders.order_id\n",
              "    orders.user_id -> users.user_id"
            ]
          },
          "metadata": {
            "tags": []
          },
          "execution_count": 56
        }
      ]
    },
    {
      "metadata": {
        "id": "Qic2tBb7Aj-Z",
        "colab_type": "text"
      },
      "cell_type": "markdown",
      "source": [
        "## Make Labels"
      ]
    },
    {
      "metadata": {
        "id": "_-oRYLZzAgsY",
        "colab_type": "code",
        "colab": {}
      },
      "cell_type": "code",
      "source": [
        "def make_labels(es, training_window, cutoff_time, prediction_window):\n",
        "  prediction_window_end = cutoff_time + prediction_window\n",
        "  t_start = cutoff_time - training_window\n",
        "\n",
        "  orders = es[\"orders\"].df\n",
        "  ops = es[\"order_products\"].df\n",
        "\n",
        "  training_data = ops[(ops[\"order_time\"] <= cutoff_time) & (ops[\"order_time\"] > t_start)]\n",
        "  prediction_data = ops[(ops[\"order_time\"] > cutoff_time) & (ops[\"order_time\"] < prediction_window_end)]\n",
        "\n",
        "  users_in_training = training_data.merge(orders)[\"user_id\"].unique()\n",
        "\n",
        "  valid_pred_data = prediction_data.merge(orders)\n",
        "  valid_pred_data = valid_pred_data[valid_pred_data[\"user_id\"].isin(users_in_training)]\n",
        "\n",
        "  # list of products  \n",
        "  empty_dict = dict((p, 0) for p in es[\"order_products\"][\"product_name\"].interesting_values)\n",
        "  def bought_products(df, d):\n",
        "    for p in df.product_name.values:\n",
        "      if p in d:\n",
        "        d[p] = 1\n",
        "    if len(d.values()) == 1:\n",
        "      return d.values()[0]\n",
        "    else:\n",
        "      return d.values()\n",
        "\n",
        "  labels = valid_pred_data.groupby(\"user_id\").apply((lambda x: bought_products(x, empty_dict.copy()))).reset_index()\n",
        "  labels[\"cutoff_time\"] = cutoff_time\n",
        "  #  rename and reorder\n",
        "  labels.columns = [\"user_id\", \"label\", \"time\",]\n",
        "  labels = labels[[\"user_id\", \"time\", \"label\"]]\n",
        "\n",
        "  return labels"
      ],
      "execution_count": 0,
      "outputs": []
    },
    {
      "metadata": {
        "id": "5-4J6LBgAoNH",
        "colab_type": "code",
        "colab": {
          "base_uri": "https://localhost:8080/",
          "height": 204
        },
        "outputId": "83ba578b-dd33-4e71-f5f5-10626b8d6717"
      },
      "cell_type": "code",
      "source": [
        "label_times = make_labels(es=es,\n",
        "                          training_window = ft.Timedelta(\"30 days\"), \n",
        "                          cutoff_time = pd.Timestamp('March 15, 2015'),\n",
        "                          prediction_window = ft.Timedelta(\"30 days\"))\n",
        "\n",
        "label_times.sample(5)"
      ],
      "execution_count": 58,
      "outputs": [
        {
          "output_type": "execute_result",
          "data": {
            "text/html": [
              "<div>\n",
              "<style scoped>\n",
              "    .dataframe tbody tr th:only-of-type {\n",
              "        vertical-align: middle;\n",
              "    }\n",
              "\n",
              "    .dataframe tbody tr th {\n",
              "        vertical-align: top;\n",
              "    }\n",
              "\n",
              "    .dataframe thead th {\n",
              "        text-align: right;\n",
              "    }\n",
              "</style>\n",
              "<table border=\"1\" class=\"dataframe\">\n",
              "  <thead>\n",
              "    <tr style=\"text-align: right;\">\n",
              "      <th></th>\n",
              "      <th>user_id</th>\n",
              "      <th>time</th>\n",
              "      <th>label</th>\n",
              "    </tr>\n",
              "  </thead>\n",
              "  <tbody>\n",
              "    <tr>\n",
              "      <th>299</th>\n",
              "      <td>1369</td>\n",
              "      <td>2015-03-15</td>\n",
              "      <td>[0, 0, 0]</td>\n",
              "    </tr>\n",
              "    <tr>\n",
              "      <th>309</th>\n",
              "      <td>1380</td>\n",
              "      <td>2015-03-15</td>\n",
              "      <td>[0, 0, 0]</td>\n",
              "    </tr>\n",
              "    <tr>\n",
              "      <th>527</th>\n",
              "      <td>1667</td>\n",
              "      <td>2015-03-15</td>\n",
              "      <td>[0, 1, 0]</td>\n",
              "    </tr>\n",
              "    <tr>\n",
              "      <th>268</th>\n",
              "      <td>1335</td>\n",
              "      <td>2015-03-15</td>\n",
              "      <td>[0, 0, 0]</td>\n",
              "    </tr>\n",
              "    <tr>\n",
              "      <th>601</th>\n",
              "      <td>1759</td>\n",
              "      <td>2015-03-15</td>\n",
              "      <td>[0, 0, 0]</td>\n",
              "    </tr>\n",
              "  </tbody>\n",
              "</table>\n",
              "</div>"
            ],
            "text/plain": [
              "     user_id       time      label\n",
              "299     1369 2015-03-15  [0, 0, 0]\n",
              "309     1380 2015-03-15  [0, 0, 0]\n",
              "527     1667 2015-03-15  [0, 1, 0]\n",
              "268     1335 2015-03-15  [0, 0, 0]\n",
              "601     1759 2015-03-15  [0, 0, 0]"
            ]
          },
          "metadata": {
            "tags": []
          },
          "execution_count": 58
        }
      ]
    },
    {
      "metadata": {
        "id": "Sv-F1aJyAyJL",
        "colab_type": "text"
      },
      "cell_type": "markdown",
      "source": [
        "## Automated Feature Engineering"
      ]
    },
    {
      "metadata": {
        "id": "4XrHoOlDAv4w",
        "colab_type": "code",
        "colab": {
          "base_uri": "https://localhost:8080/",
          "height": 51
        },
        "outputId": "7ada73ca-134d-433f-8533-f9514ed4a1b8"
      },
      "cell_type": "code",
      "source": [
        "feature_matrix, features = ft.dfs(target_entity=\"users\", \n",
        "                                  cutoff_time=label_times,\n",
        "                                  training_window=ft.Timedelta(\"30 days\"), # same as above\n",
        "                                  entityset=es,\n",
        "                                  verbose=True)\n",
        "# encode categorical values\n",
        "fm_encoded, features_encoded = ft.encode_features(feature_matrix, features)"
      ],
      "execution_count": 59,
      "outputs": [
        {
          "output_type": "stream",
          "text": [
            "Built 106 features\n",
            "Elapsed: 00:16 | Remaining: 00:00 | Progress: 100%|██████████| Calculated: 10/10 chunks\n"
          ],
          "name": "stdout"
        }
      ]
    },
    {
      "metadata": {
        "id": "Y97GkPWYBFIc",
        "colab_type": "text"
      },
      "cell_type": "markdown",
      "source": [
        "## Machine Learning"
      ]
    },
    {
      "metadata": {
        "id": "em5Ud51mzuKK",
        "colab_type": "code",
        "colab": {}
      },
      "cell_type": "code",
      "source": [
        "X = fm_encoded\n",
        "X[\"label\"] = label_times[\"label\"].values\n",
        "X = X.fillna(0)\n",
        "y = X.pop(\"label\")\n",
        "\n",
        "\n",
        "from sklearn.preprocessing import LabelEncoder\n",
        "from sklearn.preprocessing import OneHotEncoder\n",
        "label_encoder = LabelEncoder()\n",
        "\n",
        "integer_encoded = label_encoder.fit_transform(y)\n",
        "\n",
        "onehot_encoder = OneHotEncoder(sparse=False)\n",
        "integer_encoded = integer_encoded.reshape(len(integer_encoded), 1)\n",
        "encoded_y = onehot_encoder.fit_transform(integer_encoded)\n",
        "\n",
        "from sklearn.preprocessing import StandardScaler \n",
        "x_scaler = StandardScaler()\n",
        "\n",
        "normal_X = x_scaler.fit_transform(X=X)"
      ],
      "execution_count": 0,
      "outputs": []
    },
    {
      "metadata": {
        "id": "TyW-BjwaNnKZ",
        "colab_type": "code",
        "colab": {}
      },
      "cell_type": "code",
      "source": [
        "y_banana = label_times.copy()\n",
        "y_banana.label = y_banana.label.apply((lambda x: x[0]))\n",
        "\n",
        "y_strawberries = label_times.copy()\n",
        "y_strawberries.label = y_strawberries.label.apply((lambda x: x[1]))\n",
        "\n",
        "y_avocado = label_times.copy()\n",
        "y_avocado.label = y_avocado.label.apply((lambda x: x[2]))"
      ],
      "execution_count": 0,
      "outputs": []
    },
    {
      "metadata": {
        "id": "EYFU0xTLD12T",
        "colab_type": "text"
      },
      "cell_type": "markdown",
      "source": [
        "### Random forest"
      ]
    },
    {
      "metadata": {
        "id": "hUwoT7foBHmE",
        "colab_type": "code",
        "colab": {}
      },
      "cell_type": "code",
      "source": [
        "clf = RandomForestClassifier(n_estimators=400, n_jobs=-1)"
      ],
      "execution_count": 0,
      "outputs": []
    },
    {
      "metadata": {
        "id": "Mwk1wwl0BJG9",
        "colab_type": "code",
        "colab": {
          "base_uri": "https://localhost:8080/",
          "height": 357
        },
        "outputId": "da5403f3-fcf5-410e-ec98-f5167a9cf443"
      },
      "cell_type": "code",
      "source": [
        "def feature_importances(model, features, n=10):\n",
        "    importances = model.feature_importances_\n",
        "    zipped = sorted(zip(features, importances), key=lambda x: -x[1])\n",
        "    for i, f in enumerate(zipped[:n]):\n",
        "        print \"%d: Feature: %s, %.3f\" % (i+1, f[0].get_name(), f[1])\n",
        "\n",
        "    return [f[0] for f in zipped[:n]]\n",
        "\n",
        "clf.fit(normal_X, encoded_y)\n",
        "top_features = feature_importances(clf, features_encoded, n=20)"
      ],
      "execution_count": 63,
      "outputs": [
        {
          "output_type": "stream",
          "text": [
            "1: Feature: COUNT(order_products WHERE product_name = Organic Strawberries), 0.034\n",
            "2: Feature: COUNT(order_products WHERE product_name = Banana), 0.029\n",
            "3: Feature: COUNT(order_products WHERE product_name = Organic Avocado), 0.022\n",
            "4: Feature: COUNT(order_products WHERE department = produce), 0.022\n",
            "5: Feature: MODE(order_products.product_name) = Banana, 0.017\n",
            "6: Feature: COUNT(order_products WHERE department = dairy eggs), 0.015\n",
            "7: Feature: MEAN(orders.order_hour_of_day), 0.015\n",
            "8: Feature: PERCENT_TRUE(order_products.reordered), 0.015\n",
            "9: Feature: MEAN(orders.PERCENT_TRUE(order_products.reordered)), 0.015\n",
            "10: Feature: SUM(orders.PERCENT_TRUE(order_products.reordered)), 0.015\n",
            "11: Feature: MEAN(orders.NUM_UNIQUE(order_products.product_name)), 0.014\n",
            "12: Feature: MIN(orders.PERCENT_TRUE(order_products.reordered)), 0.014\n",
            "13: Feature: SUM(orders.NUM_UNIQUE(order_products.product_name)), 0.014\n",
            "14: Feature: NUM_UNIQUE(order_products.product_name), 0.014\n",
            "15: Feature: MIN(orders.order_hour_of_day), 0.014\n",
            "16: Feature: SUM(orders.order_hour_of_day), 0.014\n",
            "17: Feature: MAX(orders.PERCENT_TRUE(order_products.reordered)), 0.014\n",
            "18: Feature: MAX(orders.NUM_UNIQUE(order_products.product_name)), 0.014\n",
            "19: Feature: COUNT(order_products), 0.013\n",
            "20: Feature: MEAN(orders.COUNT(order_products)), 0.013\n"
          ],
          "name": "stdout"
        }
      ]
    },
    {
      "metadata": {
        "id": "Rp9bjVqBBP6O",
        "colab_type": "code",
        "colab": {}
      },
      "cell_type": "code",
      "source": [
        "ft.save_features(top_features, \"top_features\")"
      ],
      "execution_count": 0,
      "outputs": []
    },
    {
      "metadata": {
        "id": "X77RRS2lOXcr",
        "colab_type": "code",
        "colab": {
          "base_uri": "https://localhost:8080/",
          "height": 54
        },
        "outputId": "46d92eac-d0cf-4f3a-b944-5d9612e89359"
      },
      "cell_type": "code",
      "source": [
        "# take all except last order for model fit\n",
        "# take only last order for user for predict\n",
        "rf_banana = RandomForestClassifier(n_estimators=400, n_jobs=-1)\n",
        "rf_banana.fit(X.values, y_banana.label.values)\n",
        "pred_banana = rf_banana.predict(X.values)\n",
        "\n",
        "rf_strawberries = RandomForestClassifier(n_estimators=400, n_jobs=-1)\n",
        "rf_strawberries.fit(X.values, y_strawberries.label.values)\n",
        "pred_strawberries = rf_strawberries.predict(X.values)\n",
        "\n",
        "rf_avocado = RandomForestClassifier(n_estimators=400, n_jobs=-1)\n",
        "rf_avocado.fit(X.values, y_avocado.label.values)\n",
        "pred_avocado = rf_avocado.predict(X.values)\n",
        "\n",
        "\n",
        "\"\"\"rf_milk = RandomForestClassifier(n_estimators=400, n_jobs=-1)\n",
        "rf_milk.fit(X.values, y_milk.label.values)\n",
        "pred_milk = rf_milk.predict(X.values)\n",
        "\n",
        "rf_spinach = RandomForestClassifier(n_estimators=400, n_jobs=-1)\n",
        "rf_spinach.fit(X.values, y_spinach.label.values)\n",
        "pred_spinach = rf_spinach.predict(X.values)\"\"\""
      ],
      "execution_count": 65,
      "outputs": [
        {
          "output_type": "execute_result",
          "data": {
            "text/plain": [
              "'rf_milk = RandomForestClassifier(n_estimators=400, n_jobs=-1)\\nrf_milk.fit(X.values, y_milk.label.values)\\npred_milk = rf_milk.predict(X.values)\\n\\nrf_spinach = RandomForestClassifier(n_estimators=400, n_jobs=-1)\\nrf_spinach.fit(X.values, y_spinach.label.values)\\npred_spinach = rf_spinach.predict(X.values)'"
            ]
          },
          "metadata": {
            "tags": []
          },
          "execution_count": 65
        }
      ]
    },
    {
      "metadata": {
        "id": "Np0lYSbyPWZ1",
        "colab_type": "code",
        "colab": {
          "base_uri": "https://localhost:8080/",
          "height": 204
        },
        "outputId": "11577e9a-3781-438f-a73c-b7014a56bbcc"
      },
      "cell_type": "code",
      "source": [
        "users_buy = X_all.get([\"user_id\"])\n",
        "users_buy[\"banana\"] = pred_banana\n",
        "users_buy[\"strawberries\"] = pred_strawberries\n",
        "users_buy[\"avocado\"] = pred_avocado\n",
        "\n",
        "#users_buy[\"milk\"] = pred_milk\n",
        "#users_buy[\"spinach\"] = pred_spinach\n",
        "#\n",
        "users_buy.sample(5)"
      ],
      "execution_count": 66,
      "outputs": [
        {
          "output_type": "execute_result",
          "data": {
            "text/html": [
              "<div>\n",
              "<style scoped>\n",
              "    .dataframe tbody tr th:only-of-type {\n",
              "        vertical-align: middle;\n",
              "    }\n",
              "\n",
              "    .dataframe tbody tr th {\n",
              "        vertical-align: top;\n",
              "    }\n",
              "\n",
              "    .dataframe thead th {\n",
              "        text-align: right;\n",
              "    }\n",
              "</style>\n",
              "<table border=\"1\" class=\"dataframe\">\n",
              "  <thead>\n",
              "    <tr style=\"text-align: right;\">\n",
              "      <th></th>\n",
              "      <th>user_id</th>\n",
              "      <th>banana</th>\n",
              "      <th>strawberries</th>\n",
              "      <th>avocado</th>\n",
              "    </tr>\n",
              "  </thead>\n",
              "  <tbody>\n",
              "    <tr>\n",
              "      <th>757</th>\n",
              "      <td>1955</td>\n",
              "      <td>0</td>\n",
              "      <td>1</td>\n",
              "      <td>0</td>\n",
              "    </tr>\n",
              "    <tr>\n",
              "      <th>293</th>\n",
              "      <td>1362</td>\n",
              "      <td>0</td>\n",
              "      <td>0</td>\n",
              "      <td>0</td>\n",
              "    </tr>\n",
              "    <tr>\n",
              "      <th>381</th>\n",
              "      <td>1475</td>\n",
              "      <td>0</td>\n",
              "      <td>0</td>\n",
              "      <td>0</td>\n",
              "    </tr>\n",
              "    <tr>\n",
              "      <th>641</th>\n",
              "      <td>1814</td>\n",
              "      <td>0</td>\n",
              "      <td>0</td>\n",
              "      <td>0</td>\n",
              "    </tr>\n",
              "    <tr>\n",
              "      <th>456</th>\n",
              "      <td>1570</td>\n",
              "      <td>0</td>\n",
              "      <td>0</td>\n",
              "      <td>0</td>\n",
              "    </tr>\n",
              "  </tbody>\n",
              "</table>\n",
              "</div>"
            ],
            "text/plain": [
              "     user_id  banana  strawberries  avocado\n",
              "757     1955       0             1        0\n",
              "293     1362       0             0        0\n",
              "381     1475       0             0        0\n",
              "641     1814       0             0        0\n",
              "456     1570       0             0        0"
            ]
          },
          "metadata": {
            "tags": []
          },
          "execution_count": 66
        }
      ]
    },
    {
      "metadata": {
        "id": "oQA88rhWPM20",
        "colab_type": "code",
        "colab": {}
      },
      "cell_type": "code",
      "source": [
        "product_ids = []\n",
        "for i in range(0, len(users_buy)):\n",
        "  d = users_buy.iloc[i].drop(\"user_id\").to_dict()\n",
        "  product_id_list = []\n",
        "  for product_id, buyTF in d.iteritems():\n",
        "    if buyTF == 1:\n",
        "      product_id_list.append(product_id)\n",
        "  if len(product_id_list) > 0:\n",
        "    product_ids.append(product_id_list)\n",
        "  else:\n",
        "    product_ids.append([\"None\"])\n",
        "users_buy[\"product_ids\"] = product_ids\n",
        "users_buy = users_buy.get([\"user_id\", \"product_ids\"])"
      ],
      "execution_count": 0,
      "outputs": []
    },
    {
      "metadata": {
        "id": "ho3bEe5rrkd7",
        "colab_type": "code",
        "colab": {
          "base_uri": "https://localhost:8080/",
          "height": 359
        },
        "outputId": "0c10d409-b73f-4298-d84a-46f1ba5c163f"
      },
      "cell_type": "code",
      "source": [
        "users_buy.sample(10)"
      ],
      "execution_count": 74,
      "outputs": [
        {
          "output_type": "execute_result",
          "data": {
            "text/html": [
              "<div>\n",
              "<style scoped>\n",
              "    .dataframe tbody tr th:only-of-type {\n",
              "        vertical-align: middle;\n",
              "    }\n",
              "\n",
              "    .dataframe tbody tr th {\n",
              "        vertical-align: top;\n",
              "    }\n",
              "\n",
              "    .dataframe thead th {\n",
              "        text-align: right;\n",
              "    }\n",
              "</style>\n",
              "<table border=\"1\" class=\"dataframe\">\n",
              "  <thead>\n",
              "    <tr style=\"text-align: right;\">\n",
              "      <th></th>\n",
              "      <th>user_id</th>\n",
              "      <th>product_ids</th>\n",
              "    </tr>\n",
              "  </thead>\n",
              "  <tbody>\n",
              "    <tr>\n",
              "      <th>378</th>\n",
              "      <td>1470</td>\n",
              "      <td>[None]</td>\n",
              "    </tr>\n",
              "    <tr>\n",
              "      <th>20</th>\n",
              "      <td>1023</td>\n",
              "      <td>[None]</td>\n",
              "    </tr>\n",
              "    <tr>\n",
              "      <th>414</th>\n",
              "      <td>1518</td>\n",
              "      <td>[strawberries, avocado, banana]</td>\n",
              "    </tr>\n",
              "    <tr>\n",
              "      <th>494</th>\n",
              "      <td>1621</td>\n",
              "      <td>[None]</td>\n",
              "    </tr>\n",
              "    <tr>\n",
              "      <th>678</th>\n",
              "      <td>1858</td>\n",
              "      <td>[None]</td>\n",
              "    </tr>\n",
              "    <tr>\n",
              "      <th>365</th>\n",
              "      <td>1451</td>\n",
              "      <td>[None]</td>\n",
              "    </tr>\n",
              "    <tr>\n",
              "      <th>326</th>\n",
              "      <td>1402</td>\n",
              "      <td>[strawberries]</td>\n",
              "    </tr>\n",
              "    <tr>\n",
              "      <th>110</th>\n",
              "      <td>1139</td>\n",
              "      <td>[avocado]</td>\n",
              "    </tr>\n",
              "    <tr>\n",
              "      <th>12</th>\n",
              "      <td>1014</td>\n",
              "      <td>[None]</td>\n",
              "    </tr>\n",
              "    <tr>\n",
              "      <th>214</th>\n",
              "      <td>1265</td>\n",
              "      <td>[None]</td>\n",
              "    </tr>\n",
              "  </tbody>\n",
              "</table>\n",
              "</div>"
            ],
            "text/plain": [
              "     user_id                      product_ids\n",
              "378     1470                           [None]\n",
              "20      1023                           [None]\n",
              "414     1518  [strawberries, avocado, banana]\n",
              "494     1621                           [None]\n",
              "678     1858                           [None]\n",
              "365     1451                           [None]\n",
              "326     1402                   [strawberries]\n",
              "110     1139                        [avocado]\n",
              "12      1014                           [None]\n",
              "214     1265                           [None]"
            ]
          },
          "metadata": {
            "tags": []
          },
          "execution_count": 74
        }
      ]
    }
  ]
}